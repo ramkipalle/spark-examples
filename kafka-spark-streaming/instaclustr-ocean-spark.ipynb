{
 "cells": [
  {
   "cell_type": "code",
   "execution_count": null,
   "metadata": {},
   "outputs": [],
   "source": []
  },
  {
   "cell_type": "code",
   "execution_count": 1,
   "metadata": {},
   "outputs": [
    {
     "ename": "SyntaxError",
     "evalue": "EOF while scanning triple-quoted string literal (777250989.py, line 14)",
     "output_type": "error",
     "traceback": [
      "\u001b[0;36m  File \u001b[0;32m\"/var/folders/jv/xt13hx2s7zgdbv3rt14q1jpw0000gp/T/ipykernel_692/777250989.py\"\u001b[0;36m, line \u001b[0;32m14\u001b[0m\n\u001b[0;31m    df = spark.readStream.format(\"kafka\").options(**options).load()\u001b[0m\n\u001b[0m                                                                   \n^\u001b[0m\n\u001b[0;31mSyntaxError\u001b[0m\u001b[0;31m:\u001b[0m EOF while scanning triple-quoted string literal\n"
     ]
    }
   ],
   "source": [
    "'''\n",
    "bootstrap_servers = \"10.0.44.196:9092, 10.0.110.250:9092, 10.0.149.104:9092\"\n",
    "group_id = \"test-demo-0\"\n",
    "topic = \"test-ofas-demo-0\"\n",
    "\n",
    "options = {\n",
    "    \"kafka.sasl.jaas.config\": 'org.apache.kafka.common.security.plain.PlainLoginModule required username=\"ickafka\" password=\"e9edb493df6e61472713e3006a6b73d8f23c1d171cd465adaf98f1b1af8a2665\";',\n",
    "    \"kafka.sasl.mechanism\": \"PLAIN\",\n",
    "    \"kafka.security.protocol\" : \"SASL_SSL\",\n",
    "    \"kafka.bootstrap.servers\": bootstrap_servers,\n",
    "    \"group.id\": group_id,\n",
    "    \"subscribe\": topic,\n",
    "}\n",
    "df = spark.readStream.format(\"kafka\").options(**options).load()\n",
    "'''"
   ]
  },
  {
   "cell_type": "code",
   "execution_count": null,
   "metadata": {},
   "outputs": [],
   "source": []
  }
 ],
 "metadata": {
  "kernelspec": {
   "display_name": "Python 3",
   "language": "python",
   "name": "python3"
  },
  "language_info": {
   "codemirror_mode": {
    "name": "ipython",
    "version": 3
   },
   "file_extension": ".py",
   "mimetype": "text/x-python",
   "name": "python",
   "nbconvert_exporter": "python",
   "pygments_lexer": "ipython3",
   "version": "3.7.9"
  },
  "orig_nbformat": 4,
  "vscode": {
   "interpreter": {
    "hash": "aee8b7b246df8f9039afb4144a1f6fd8d2ca17a180786b69acc140d282b71a49"
   }
  }
 },
 "nbformat": 4,
 "nbformat_minor": 2
}
