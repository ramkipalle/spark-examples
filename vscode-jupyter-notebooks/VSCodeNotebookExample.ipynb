{
 "cells": [
  {
   "cell_type": "code",
   "execution_count": 9,
   "metadata": {
    "vscode": {
     "languageId": "python"
    }
   },
   "outputs": [],
   "source": [
    "columns = [\"name\",\"languagesAtSchool\",\"currentState\"]\n",
    "data = [(\"James,Smith\",[\"Java\",\"Scala\",\"C++\",\"Go\"],\"CA\"), \\\n",
    "        (\"Michael,Rose,\",[\"Spark\",\"Java\",\"Python\",\"C++\"],\"NJ\"), \\\n",
    "        (\"Robert,Williams\",[\"CSharp\", \"Java\", \"C++\"],\"NV\")]\n",
    "\n",
    "df = spark.createDataFrame(data=data,schema=columns)"
   ]
  },
  {
   "cell_type": "code",
   "execution_count": 10,
   "metadata": {
    "vscode": {
     "languageId": "python"
    }
   },
   "outputs": [
    {
     "name": "stdout",
     "output_type": "stream",
     "text": [
      "+---------------+--------------------------+------------+\n",
      "|name           |languagesAtSchool         |currentState|\n",
      "+---------------+--------------------------+------------+\n",
      "|James,Smith    |[Java, Scala, C++, Go]    |CA          |\n",
      "|Michael,Rose,  |[Spark, Java, Python, C++]|NJ          |\n",
      "|Robert,Williams|[CSharp, VB, Java, C++]   |NV          |\n",
      "+---------------+--------------------------+------------+\n",
      "\n"
     ]
    }
   ],
   "source": [
    "df.show(truncate=False)"
   ]
  },
  {
   "cell_type": "code",
   "execution_count": 7,
   "metadata": {
    "vscode": {
     "languageId": "python"
    }
   },
   "outputs": [],
   "source": [
    "df1 = df.filter(df.currentState == \"CA\")"
   ]
  },
  {
   "cell_type": "code",
   "execution_count": 8,
   "metadata": {
    "vscode": {
     "languageId": "python"
    }
   },
   "outputs": [
    {
     "name": "stdout",
     "output_type": "stream",
     "text": [
      "+-----------+--------------------+------------+\n",
      "|       name|   languagesAtSchool|currentState|\n",
      "+-----------+--------------------+------------+\n",
      "|James,Smith|[Java, Scala, C++...|          CA|\n",
      "+-----------+--------------------+------------+\n",
      "\n"
     ]
    }
   ],
   "source": [
    "df1.show()"
   ]
  }
 ],
 "metadata": {
  "kernelspec": {
   "display_name": "Config template demo",
   "language": "python3",
   "name": "demo"
  },
  "language_info": {
   "codemirror_mode": {
    "name": "ipython",
    "version": 3
   },
   "file_extension": ".py",
   "mimetype": "text/x-python",
   "name": "python3",
   "nbconvert_exporter": "python",
   "pygments_lexer": "ipython3",
   "version": "3.8.13"
  },
  "orig_nbformat": 4,
  "vscode": {
   "interpreter": {
    "hash": "aee8b7b246df8f9039afb4144a1f6fd8d2ca17a180786b69acc140d282b71a49"
   }
  }
 },
 "nbformat": 4,
 "nbformat_minor": 2
}
